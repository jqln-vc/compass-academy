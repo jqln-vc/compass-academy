{
 "cells": [
  {
   "cell_type": "markdown",
   "metadata": {},
   "source": [
    "![Banner](../../assets/banner-sprint7-desafio.png)\n",
    "\n"
   ]
  },
  {
   "cell_type": "markdown",
   "metadata": {},
   "source": [
    "## IMPORTAÇÕES E LEITURA DO DATASET"
   ]
  },
  {
   "cell_type": "markdown",
   "metadata": {},
   "source": [
    "Importação de bibliotecas para análise e tratamento dos dados."
   ]
  },
  {
   "cell_type": "code",
   "execution_count": 1,
   "metadata": {},
   "outputs": [
    {
     "name": "stderr",
     "output_type": "stream",
     "text": [
      "/home/codespace/.python/current/lib/python3.12/site-packages/tqdm/auto.py:21: TqdmWarning: IProgress not found. Please update jupyter and ipywidgets. See https://ipywidgets.readthedocs.io/en/stable/user_install.html\n",
      "  from .autonotebook import tqdm as notebook_tqdm\n"
     ]
    }
   ],
   "source": [
    "import pandas as pd\n",
    "import re\n",
    "from transformers import pipeline"
   ]
  },
  {
   "cell_type": "markdown",
   "metadata": {},
   "source": [
    "Leitura do dataset para um DataFrame, com configurações específicas para o formato.\n",
    "\n"
   ]
  },
  {
   "cell_type": "code",
   "execution_count": 2,
   "metadata": {},
   "outputs": [],
   "source": [
    "df = pd.read_csv('../../sprint6/desafio/dados_raw/movies.csv',\n",
    "    delimiter='|',\n",
    "    quotechar='\"',\n",
    "    escapechar='\\\\',\n",
    "    engine='python'\n",
    ")"
   ]
  },
  {
   "cell_type": "markdown",
   "metadata": {},
   "source": [
    "Visualização de amostra."
   ]
  },
  {
   "cell_type": "code",
   "execution_count": 3,
   "metadata": {},
   "outputs": [
    {
     "data": {
      "text/html": [
       "<div>\n",
       "<style scoped>\n",
       "    .dataframe tbody tr th:only-of-type {\n",
       "        vertical-align: middle;\n",
       "    }\n",
       "\n",
       "    .dataframe tbody tr th {\n",
       "        vertical-align: top;\n",
       "    }\n",
       "\n",
       "    .dataframe thead th {\n",
       "        text-align: right;\n",
       "    }\n",
       "</style>\n",
       "<table border=\"1\" class=\"dataframe\">\n",
       "  <thead>\n",
       "    <tr style=\"text-align: right;\">\n",
       "      <th></th>\n",
       "      <th>id</th>\n",
       "      <th>tituloPincipal</th>\n",
       "      <th>tituloOriginal</th>\n",
       "      <th>anoLancamento</th>\n",
       "      <th>tempoMinutos</th>\n",
       "      <th>genero</th>\n",
       "      <th>notaMedia</th>\n",
       "      <th>numeroVotos</th>\n",
       "      <th>generoArtista</th>\n",
       "      <th>personagem</th>\n",
       "      <th>nomeArtista</th>\n",
       "      <th>anoNascimento</th>\n",
       "      <th>anoFalecimento</th>\n",
       "      <th>profissao</th>\n",
       "      <th>titulosMaisConhecidos</th>\n",
       "    </tr>\n",
       "  </thead>\n",
       "  <tbody>\n",
       "    <tr>\n",
       "      <th>0</th>\n",
       "      <td>tt0000009</td>\n",
       "      <td>Miss Jerry</td>\n",
       "      <td>Miss Jerry</td>\n",
       "      <td>1894</td>\n",
       "      <td>45</td>\n",
       "      <td>Romance</td>\n",
       "      <td>5.3</td>\n",
       "      <td>200</td>\n",
       "      <td>actress</td>\n",
       "      <td>Miss Geraldine Holbrook (Miss Jerry)</td>\n",
       "      <td>Blanche Bayliss</td>\n",
       "      <td>1878</td>\n",
       "      <td>1951</td>\n",
       "      <td>actress</td>\n",
       "      <td>tt0000009</td>\n",
       "    </tr>\n",
       "    <tr>\n",
       "      <th>1</th>\n",
       "      <td>tt0000009</td>\n",
       "      <td>Miss Jerry</td>\n",
       "      <td>Miss Jerry</td>\n",
       "      <td>1894</td>\n",
       "      <td>45</td>\n",
       "      <td>Romance</td>\n",
       "      <td>5.3</td>\n",
       "      <td>200</td>\n",
       "      <td>actor</td>\n",
       "      <td>Mr. Hamilton</td>\n",
       "      <td>William Courtenay</td>\n",
       "      <td>1875</td>\n",
       "      <td>1933</td>\n",
       "      <td>actor</td>\n",
       "      <td>tt0021535,tt0000009,tt0020355,tt0020403</td>\n",
       "    </tr>\n",
       "    <tr>\n",
       "      <th>2</th>\n",
       "      <td>tt0000009</td>\n",
       "      <td>Miss Jerry</td>\n",
       "      <td>Miss Jerry</td>\n",
       "      <td>1894</td>\n",
       "      <td>45</td>\n",
       "      <td>Romance</td>\n",
       "      <td>5.3</td>\n",
       "      <td>200</td>\n",
       "      <td>actor</td>\n",
       "      <td>Chauncey Depew - the Director of the New York ...</td>\n",
       "      <td>Chauncey Depew</td>\n",
       "      <td>1834</td>\n",
       "      <td>1928</td>\n",
       "      <td>actor,writer</td>\n",
       "      <td>tt1076833,tt0490842,tt0000009,tt4484306</td>\n",
       "    </tr>\n",
       "    <tr>\n",
       "      <th>3</th>\n",
       "      <td>tt0000502</td>\n",
       "      <td>Bohemios</td>\n",
       "      <td>Bohemios</td>\n",
       "      <td>1905</td>\n",
       "      <td>100</td>\n",
       "      <td>N</td>\n",
       "      <td>4.2</td>\n",
       "      <td>14</td>\n",
       "      <td>actor</td>\n",
       "      <td>N</td>\n",
       "      <td>Antonio del Pozo</td>\n",
       "      <td>N</td>\n",
       "      <td>N</td>\n",
       "      <td>actor</td>\n",
       "      <td>tt0000502</td>\n",
       "    </tr>\n",
       "    <tr>\n",
       "      <th>4</th>\n",
       "      <td>tt0000502</td>\n",
       "      <td>Bohemios</td>\n",
       "      <td>Bohemios</td>\n",
       "      <td>1905</td>\n",
       "      <td>100</td>\n",
       "      <td>N</td>\n",
       "      <td>4.2</td>\n",
       "      <td>14</td>\n",
       "      <td>actor</td>\n",
       "      <td>N</td>\n",
       "      <td>El Mochuelo</td>\n",
       "      <td>N</td>\n",
       "      <td>N</td>\n",
       "      <td>actor</td>\n",
       "      <td>tt0000502</td>\n",
       "    </tr>\n",
       "  </tbody>\n",
       "</table>\n",
       "</div>"
      ],
      "text/plain": [
       "          id tituloPincipal tituloOriginal anoLancamento tempoMinutos  \\\n",
       "0  tt0000009     Miss Jerry     Miss Jerry          1894           45   \n",
       "1  tt0000009     Miss Jerry     Miss Jerry          1894           45   \n",
       "2  tt0000009     Miss Jerry     Miss Jerry          1894           45   \n",
       "3  tt0000502       Bohemios       Bohemios          1905          100   \n",
       "4  tt0000502       Bohemios       Bohemios          1905          100   \n",
       "\n",
       "    genero  notaMedia  numeroVotos generoArtista  \\\n",
       "0  Romance        5.3          200       actress   \n",
       "1  Romance        5.3          200         actor   \n",
       "2  Romance        5.3          200         actor   \n",
       "3        N        4.2           14         actor   \n",
       "4        N        4.2           14         actor   \n",
       "\n",
       "                                          personagem        nomeArtista  \\\n",
       "0               Miss Geraldine Holbrook (Miss Jerry)    Blanche Bayliss   \n",
       "1                                       Mr. Hamilton  William Courtenay   \n",
       "2  Chauncey Depew - the Director of the New York ...     Chauncey Depew   \n",
       "3                                                  N   Antonio del Pozo   \n",
       "4                                                  N        El Mochuelo   \n",
       "\n",
       "  anoNascimento anoFalecimento     profissao  \\\n",
       "0          1878           1951       actress   \n",
       "1          1875           1933         actor   \n",
       "2          1834           1928  actor,writer   \n",
       "3             N              N         actor   \n",
       "4             N              N         actor   \n",
       "\n",
       "                     titulosMaisConhecidos  \n",
       "0                                tt0000009  \n",
       "1  tt0021535,tt0000009,tt0020355,tt0020403  \n",
       "2  tt1076833,tt0490842,tt0000009,tt4484306  \n",
       "3                                tt0000502  \n",
       "4                                tt0000502  "
      ]
     },
     "execution_count": 3,
     "metadata": {},
     "output_type": "execute_result"
    }
   ],
   "source": [
    "df.head()"
   ]
  },
  {
   "cell_type": "markdown",
   "metadata": {},
   "source": [
    "### Filtro 1: Gênero"
   ]
  },
  {
   "cell_type": "markdown",
   "metadata": {},
   "source": [
    "Dentre os gêneros designados, foi decidido manter somente `Romance` para um recorte mais específico."
   ]
  },
  {
   "cell_type": "code",
   "execution_count": 3,
   "metadata": {},
   "outputs": [
    {
     "data": {
      "text/plain": [
       "(11919, 15)"
      ]
     },
     "execution_count": 3,
     "metadata": {},
     "output_type": "execute_result"
    }
   ],
   "source": [
    "df1 = df[df['genero'].str.contains(r'^Romance$', regex=True)]\n",
    "df1.shape"
   ]
  },
  {
   "cell_type": "markdown",
   "metadata": {},
   "source": [
    "### Filtro 2: Ano 2013 ~ Atual"
   ]
  },
  {
   "cell_type": "markdown",
   "metadata": {},
   "source": [
    "Recorte referente ao período de popularização da Netflix, abarcando o início de suas atividades fora dos EUA, a expansão e presença global, até os dias atuais."
   ]
  },
  {
   "cell_type": "markdown",
   "metadata": {},
   "source": [
    "Primeiramente, foi realizada a tratativa de possíveis valores nulos na coluna `anoLancamento` e, depois, conversão da coluna para `int` ."
   ]
  },
  {
   "cell_type": "code",
   "execution_count": 4,
   "metadata": {},
   "outputs": [
    {
     "name": "stderr",
     "output_type": "stream",
     "text": [
      "/tmp/ipykernel_4295/1949478750.py:2: SettingWithCopyWarning: \n",
      "A value is trying to be set on a copy of a slice from a DataFrame.\n",
      "Try using .loc[row_indexer,col_indexer] = value instead\n",
      "\n",
      "See the caveats in the documentation: https://pandas.pydata.org/pandas-docs/stable/user_guide/indexing.html#returning-a-view-versus-a-copy\n",
      "  df1['anoLancamento'] = df1['anoLancamento'].astype(int)\n"
     ]
    }
   ],
   "source": [
    "df1.loc[df1['anoLancamento'].str.contains(r'^[a-zA-Z]+$', regex=True), 'anoLancamento'] = 0\n",
    "df1['anoLancamento'] = df1['anoLancamento'].astype(int)"
   ]
  },
  {
   "cell_type": "markdown",
   "metadata": {},
   "source": [
    "Confirmação da conversão."
   ]
  },
  {
   "cell_type": "code",
   "execution_count": 6,
   "metadata": {},
   "outputs": [
    {
     "name": "stdout",
     "output_type": "stream",
     "text": [
      "<class 'pandas.core.frame.DataFrame'>\n",
      "Index: 11919 entries, 0 to 1044551\n",
      "Data columns (total 15 columns):\n",
      " #   Column                 Non-Null Count  Dtype  \n",
      "---  ------                 --------------  -----  \n",
      " 0   id                     11919 non-null  object \n",
      " 1   tituloPincipal         11919 non-null  object \n",
      " 2   tituloOriginal         11919 non-null  object \n",
      " 3   anoLancamento          11919 non-null  int64  \n",
      " 4   tempoMinutos           11919 non-null  object \n",
      " 5   genero                 11919 non-null  object \n",
      " 6   notaMedia              11919 non-null  float64\n",
      " 7   numeroVotos            11919 non-null  int64  \n",
      " 8   generoArtista          11919 non-null  object \n",
      " 9   personagem             11919 non-null  object \n",
      " 10  nomeArtista            11919 non-null  object \n",
      " 11  anoNascimento          11919 non-null  object \n",
      " 12  anoFalecimento         11919 non-null  object \n",
      " 13  profissao              11830 non-null  object \n",
      " 14  titulosMaisConhecidos  11918 non-null  object \n",
      "dtypes: float64(1), int64(2), object(12)\n",
      "memory usage: 1.5+ MB\n"
     ]
    }
   ],
   "source": [
    "df1.info()"
   ]
  },
  {
   "cell_type": "markdown",
   "metadata": {},
   "source": [
    "Recorte por período, este DataFrame será a base para inserção dos dados obtidos via API, visto que serão utilizadas as linhas com atrizes/atores distintos para a análise."
   ]
  },
  {
   "cell_type": "code",
   "execution_count": 5,
   "metadata": {},
   "outputs": [
    {
     "data": {
      "text/plain": [
       "(3975, 15)"
      ]
     },
     "execution_count": 5,
     "metadata": {},
     "output_type": "execute_result"
    }
   ],
   "source": [
    "df2 = df1[df1['anoLancamento'] >= 2013]\n",
    "df2.shape"
   ]
  },
  {
   "cell_type": "markdown",
   "metadata": {},
   "source": [
    "Download deste DataFrame para utilização futura."
   ]
  },
  {
   "cell_type": "code",
   "execution_count": 8,
   "metadata": {},
   "outputs": [],
   "source": [
    "df2.to_csv(\n",
    "    './csv/dataset_base_com_elenco.csv',\n",
    "    sep=',',\n",
    "    header=True,\n",
    "    index=False\n",
    ")"
   ]
  },
  {
   "cell_type": "markdown",
   "metadata": {},
   "source": [
    "### Filtro 3: Filtrar Filmes Distintos"
   ]
  },
  {
   "cell_type": "markdown",
   "metadata": {},
   "source": [
    "Este é o filtro utilizado para obter somente os IDs distintos dos filmes interesse para as requisições via API."
   ]
  },
  {
   "cell_type": "code",
   "execution_count": 6,
   "metadata": {},
   "outputs": [
    {
     "data": {
      "text/plain": [
       "(920, 15)"
      ]
     },
     "execution_count": 6,
     "metadata": {},
     "output_type": "execute_result"
    }
   ],
   "source": [
    "df3 = df2.drop_duplicates(subset=['id'], keep='last')\n",
    "df3.shape"
   ]
  },
  {
   "cell_type": "markdown",
   "metadata": {},
   "source": [
    "#### Inserção de Coluna de Título Original em Inglês (Boolean)"
   ]
  },
  {
   "cell_type": "markdown",
   "metadata": {},
   "source": [
    "Tentativa de filtrar excluindo as linhas com títulos originais em inglês, a partir de utilização de modelo de linguagem para reconhecimento de língua.\n",
    "\n",
    "Apesar da classificação correta, alguns títulos da coluna `tituloOriginal` não estão na língua correta, e sim em inglês.\n",
    "\n",
    "Portanto, este filtro foi inutilizado."
   ]
  },
  {
   "cell_type": "code",
   "execution_count": 12,
   "metadata": {},
   "outputs": [
    {
     "name": "stderr",
     "output_type": "stream",
     "text": [
      "Device set to use cpu\n"
     ]
    },
    {
     "data": {
      "text/html": [
       "<div>\n",
       "<style scoped>\n",
       "    .dataframe tbody tr th:only-of-type {\n",
       "        vertical-align: middle;\n",
       "    }\n",
       "\n",
       "    .dataframe tbody tr th {\n",
       "        vertical-align: top;\n",
       "    }\n",
       "\n",
       "    .dataframe thead th {\n",
       "        text-align: right;\n",
       "    }\n",
       "</style>\n",
       "<table border=\"1\" class=\"dataframe\">\n",
       "  <thead>\n",
       "    <tr style=\"text-align: right;\">\n",
       "      <th></th>\n",
       "      <th>id</th>\n",
       "      <th>tituloOriginal</th>\n",
       "      <th>emIngles</th>\n",
       "    </tr>\n",
       "  </thead>\n",
       "  <tbody>\n",
       "    <tr>\n",
       "      <th>563534</th>\n",
       "      <td>tt0850678</td>\n",
       "      <td>Jackson Arms</td>\n",
       "      <td>True</td>\n",
       "    </tr>\n",
       "    <tr>\n",
       "      <th>576817</th>\n",
       "      <td>tt10006510</td>\n",
       "      <td>Life Mein Twist Hai</td>\n",
       "      <td>False</td>\n",
       "    </tr>\n",
       "    <tr>\n",
       "      <th>577446</th>\n",
       "      <td>tt10033852</td>\n",
       "      <td>Rangeela Raybaa</td>\n",
       "      <td>False</td>\n",
       "    </tr>\n",
       "    <tr>\n",
       "      <th>577449</th>\n",
       "      <td>tt10033904</td>\n",
       "      <td>Spandan What is Relationship</td>\n",
       "      <td>True</td>\n",
       "    </tr>\n",
       "    <tr>\n",
       "      <th>577569</th>\n",
       "      <td>tt10039472</td>\n",
       "      <td>Premak Basaat</td>\n",
       "      <td>False</td>\n",
       "    </tr>\n",
       "    <tr>\n",
       "      <th>...</th>\n",
       "      <td>...</td>\n",
       "      <td>...</td>\n",
       "      <td>...</td>\n",
       "    </tr>\n",
       "    <tr>\n",
       "      <th>1042395</th>\n",
       "      <td>tt9743420</td>\n",
       "      <td>Tinh dau tho ngay</td>\n",
       "      <td>False</td>\n",
       "    </tr>\n",
       "    <tr>\n",
       "      <th>1042691</th>\n",
       "      <td>tt9765480</td>\n",
       "      <td>Elise</td>\n",
       "      <td>False</td>\n",
       "    </tr>\n",
       "    <tr>\n",
       "      <th>1042761</th>\n",
       "      <td>tt9766610</td>\n",
       "      <td>Cho Em Gan Anh Them Chut Nua</td>\n",
       "      <td>False</td>\n",
       "    </tr>\n",
       "    <tr>\n",
       "      <th>1043920</th>\n",
       "      <td>tt9840958</td>\n",
       "      <td>Love Struck Sick</td>\n",
       "      <td>True</td>\n",
       "    </tr>\n",
       "    <tr>\n",
       "      <th>1044551</th>\n",
       "      <td>tt9878866</td>\n",
       "      <td>Subha Love</td>\n",
       "      <td>True</td>\n",
       "    </tr>\n",
       "  </tbody>\n",
       "</table>\n",
       "<p>920 rows × 3 columns</p>\n",
       "</div>"
      ],
      "text/plain": [
       "                 id                tituloOriginal  emIngles\n",
       "563534    tt0850678                  Jackson Arms      True\n",
       "576817   tt10006510           Life Mein Twist Hai     False\n",
       "577446   tt10033852               Rangeela Raybaa     False\n",
       "577449   tt10033904  Spandan What is Relationship      True\n",
       "577569   tt10039472                 Premak Basaat     False\n",
       "...             ...                           ...       ...\n",
       "1042395   tt9743420             Tinh dau tho ngay     False\n",
       "1042691   tt9765480                         Elise     False\n",
       "1042761   tt9766610  Cho Em Gan Anh Them Chut Nua     False\n",
       "1043920   tt9840958              Love Struck Sick      True\n",
       "1044551   tt9878866                    Subha Love      True\n",
       "\n",
       "[920 rows x 3 columns]"
      ]
     },
     "execution_count": 12,
     "metadata": {},
     "output_type": "execute_result"
    }
   ],
   "source": [
    "detector_lingua = pipeline(\"text-classification\",\n",
    "                           model=\"papluca/xlm-roberta-base-language-detection\")\n",
    "\n",
    "def ingles(texto):\n",
    "    classificacao = detector_lingua(texto)\n",
    "    return classificacao[0]['label'] == 'en'\n",
    "\n",
    "# df3['emIngles'] = df3['tituloOriginal'].apply(ingles)\n",
    "df3.loc[:, ['id', 'tituloOriginal', 'emIngles']]"
   ]
  },
  {
   "cell_type": "markdown",
   "metadata": {},
   "source": [
    "Download do arquivo gerado, com filmes distintos e coluna de classificação de `tituloOriginal` ."
   ]
  },
  {
   "cell_type": "code",
   "execution_count": 13,
   "metadata": {},
   "outputs": [],
   "source": [
    "df3.to_csv(\n",
    "    './csv/ids_distintos_attr_em_ingles.csv',\n",
    "    sep=',',\n",
    "    header=True,\n",
    "    index=False\n",
    ")"
   ]
  }
 ],
 "metadata": {
  "kernelspec": {
   "display_name": "Python 3",
   "language": "python",
   "name": "python3"
  },
  "language_info": {
   "codemirror_mode": {
    "name": "ipython",
    "version": 3
   },
   "file_extension": ".py",
   "mimetype": "text/x-python",
   "name": "python",
   "nbconvert_exporter": "python",
   "pygments_lexer": "ipython3",
   "version": "3.12.1"
  }
 },
 "nbformat": 4,
 "nbformat_minor": 2
}
